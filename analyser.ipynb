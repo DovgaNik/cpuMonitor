{
 "cells": [
  {
   "cell_type": "code",
   "id": "initial_id",
   "metadata": {
    "collapsed": true
   },
   "source": [
    "# imports\n",
    "import os\n",
    "import json\n",
    "import sys"
   ],
   "outputs": [],
   "execution_count": null
  },
  {
   "metadata": {},
   "cell_type": "code",
   "source": [
    "prefix = \"jsons\"\n",
    "\n",
    "filepath_list = os.listdir(prefix)\n",
    "scan_list = []"
   ],
   "id": "8c4d2d9a4f488e2c",
   "outputs": [],
   "execution_count": null
  },
  {
   "metadata": {},
   "cell_type": "code",
   "source": [
    "for filepath in filepath_list:\n",
    "    with open(os.path.join(prefix, filepath), \"r\") as f:\n",
    "        scan_list.append(json.loads(f.read()))"
   ],
   "id": "515ebc564c022857",
   "outputs": [],
   "execution_count": null
  },
  {
   "metadata": {},
   "cell_type": "code",
   "source": [
    "for scan in scan_list:\n",
    "    for proc in scan:\n",
    "        print(proc)"
   ],
   "id": "bce7d93ee2579aeb",
   "outputs": [],
   "execution_count": null
  },
  {
   "metadata": {},
   "cell_type": "code",
   "source": "",
   "id": "3ee0163793e9175b",
   "outputs": [],
   "execution_count": null
  }
 ],
 "metadata": {
  "kernelspec": {
   "display_name": "Python 3",
   "language": "python",
   "name": "python3"
  },
  "language_info": {
   "codemirror_mode": {
    "name": "ipython",
    "version": 2
   },
   "file_extension": ".py",
   "mimetype": "text/x-python",
   "name": "python",
   "nbconvert_exporter": "python",
   "pygments_lexer": "ipython2",
   "version": "2.7.6"
  }
 },
 "nbformat": 4,
 "nbformat_minor": 5
}
